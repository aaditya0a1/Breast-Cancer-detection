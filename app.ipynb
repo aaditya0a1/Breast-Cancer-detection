{
 "cells": [
  {
   "cell_type": "code",
   "execution_count": null,
   "metadata": {},
   "outputs": [
    {
     "name": "stdout",
     "output_type": "stream",
     "text": [
      "The accuracy of testing data:  0.9824561403508771\n",
      "The running time:  0.0009975433349609375\n",
      "Done\n",
      " * Serving Flask app \"__main__\" (lazy loading)\n",
      " * Environment: production\n",
      "   WARNING: This is a development server. Do not use it in a production deployment.\n",
      "   Use a production WSGI server instead.\n",
      " * Debug mode: off\n"
     ]
    },
    {
     "name": "stderr",
     "output_type": "stream",
     "text": [
      " * Running on http://127.0.0.1:4995/ (Press CTRL+C to quit)\n",
      "127.0.0.1 - - [05/Mar/2020 15:16:56] \"\u001b[37mPOST /predict HTTP/1.1\u001b[0m\" 200 -\n"
     ]
    },
    {
     "name": "stdout",
     "output_type": "stream",
     "text": [
      "9.504\n",
      "12.44\n",
      "60.34\n",
      "273.9\n",
      "0.1024\n",
      "0.06492\n",
      "0.02956\n",
      "0.02076\n",
      "0.1815\n",
      "0.06905\n",
      "0.2773\n",
      "0.9768\n",
      "1.909\n",
      "15.7\n",
      "0.009606\n",
      "0.01432\n",
      "0.01985\n",
      "0.01421\n",
      "0.02027\n",
      "0.002968\n",
      "10.23\n",
      "15.66\n",
      "65.13\n",
      "314.9\n",
      "0.1324\n",
      "0.1148\n",
      "0.08867\n",
      "0.06227\n",
      "0.245\n",
      "0.07773\n",
      "The running time:  0.0\n"
     ]
    }
   ],
   "source": [
    "from flask import Flask, render_template, request\n",
    "\n",
    "from svm_func import train_svm, test_svm, predict_svm\n",
    "\n",
    "import numpy as np\n",
    "import matplotlib.pyplot as plt\n",
    "import pandas as pd\n",
    "\n",
    "\n",
    "from sklearn.svm import SVC\n",
    "from sklearn.metrics import accuracy_score\n",
    "from time import time\n",
    "\n",
    "\n",
    "app = Flask(__name__)\n",
    "app.url_map.strict_slashes = False\n",
    "@app.route('/')\n",
    "def hello_method():\n",
    "    return render_template('home.html')\n",
    "\n",
    "\n",
    "\n",
    "@app.route('/predict', methods=['POST']) \n",
    "\n",
    "def login_user():\n",
    "\n",
    "    if(request.form['space']=='None'):\n",
    "        data = []\n",
    "        string = 'value'\n",
    "        for i in range(1,31):\n",
    "            data.append(float(request.form['value'+str(i)]))\n",
    "\n",
    "        for i in range(30):\n",
    "            print(data[i])\n",
    "\n",
    "    else:\n",
    "        string = request.form['space']\n",
    "        data = string.split()\n",
    "        print(data)\n",
    "        print(\"Type:\", type(data))\n",
    "        print(\"Length:\", len(data))\n",
    "        for i in range(30):\n",
    "            print(data[i])\n",
    "        data = [float(x.strip()) for x in data]\n",
    "\n",
    "        for i in range(30):\n",
    "            print(data[i])\n",
    "\n",
    "    data_np = np.asarray(data, dtype = float)\n",
    "    data_np = data_np.reshape(1,-1)\n",
    "    out, acc, t = predict_svm(clf, data_np)\n",
    "\n",
    "    if(out==1):\n",
    "        output = 'Malignant'\n",
    "    else:\n",
    "        output = 'Benign'\n",
    "\n",
    "    acc_x = acc[0][0]\n",
    "    acc_y = acc[0][1]\n",
    "    if(acc_x>acc_y):\n",
    "        acc = acc_x\n",
    "    else:\n",
    "        acc=acc_y\n",
    "    return render_template('result.html', output=output, accuracy=round(acc*100,3), time=t)\n",
    "\n",
    "@app.route('/profile')\n",
    "def display():\n",
    "    return render_template('profile.html')\n",
    "\n",
    "if __name__=='__main__':\n",
    "    global clf \n",
    "    clf = train_svm()\n",
    "    test_svm(clf)\n",
    "    print(\"Done\")\n",
    "    app.run(port=4995)\n",
    "\n"
   ]
  },
  {
   "cell_type": "code",
   "execution_count": null,
   "metadata": {},
   "outputs": [],
   "source": []
  },
  {
   "cell_type": "code",
   "execution_count": null,
   "metadata": {},
   "outputs": [],
   "source": []
  },
  {
   "cell_type": "code",
   "execution_count": null,
   "metadata": {},
   "outputs": [],
   "source": []
  },
  {
   "cell_type": "code",
   "execution_count": null,
   "metadata": {},
   "outputs": [],
   "source": []
  },
  {
   "cell_type": "code",
   "execution_count": null,
   "metadata": {},
   "outputs": [],
   "source": []
  },
  {
   "cell_type": "code",
   "execution_count": null,
   "metadata": {},
   "outputs": [],
   "source": []
  },
  {
   "cell_type": "code",
   "execution_count": null,
   "metadata": {},
   "outputs": [],
   "source": []
  },
  {
   "cell_type": "code",
   "execution_count": null,
   "metadata": {},
   "outputs": [],
   "source": []
  },
  {
   "cell_type": "code",
   "execution_count": null,
   "metadata": {},
   "outputs": [],
   "source": []
  },
  {
   "cell_type": "code",
   "execution_count": null,
   "metadata": {},
   "outputs": [],
   "source": []
  }
 ],
 "metadata": {
  "kernelspec": {
   "display_name": "Python 3",
   "language": "python",
   "name": "python3"
  },
  "language_info": {
   "codemirror_mode": {
    "name": "ipython",
    "version": 3
   },
   "file_extension": ".py",
   "mimetype": "text/x-python",
   "name": "python",
   "nbconvert_exporter": "python",
   "pygments_lexer": "ipython3",
   "version": "3.7.4"
  }
 },
 "nbformat": 4,
 "nbformat_minor": 2
}
